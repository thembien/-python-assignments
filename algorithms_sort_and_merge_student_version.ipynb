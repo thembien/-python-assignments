{
 "cells": [
  {
   "cell_type": "markdown",
   "metadata": {},
   "source": [
    "# Linear Sort and Merge\n",
    "\n",
    "## Instructions to Students\n",
    "- **Do not add or remove cells in this notebook. Do not edit or remove the `### START FUNCTION` or `### END FUNCTION` comments. Do not add any code outside of the functions you are required to edit. Doing any of this will lead to a mark of 0%!**\n",
    "- Answer the questions according to the specifications provided.\n",
    "- Use the given cell in each question to to see if your function matches the expected outputs.\n",
    "- Do not hard-code answers to the questions.\n",
    "- The use of stackoverflow, google, and other online tools are permitted. However, copying fellow student's code is not permissible and is considered a breach of the Honour code below. Doing this will result in a mark of 0%.\n",
    "- Good luck, and may the force be with you!\n",
    "\n",
    "## Honour Code\n",
    "\n",
    "I **YOUR NAME, YOUR SURNAME**, confirm - by submitting this document - that the solutions in this notebook are a result of my own work and that I abide by the   <a href=\"https://drive.google.com/open?id=1FXCIf425JLRx3JQi-ltSWppj8BCF3Np1\" target=\"_blank\">EDSA Student Manifesto</a>.\n",
    "\n",
    "Non-compliance with the honour code constitutes a material breach of contract.\n",
    "\n",
    "## Challenge\n",
    "\n",
    "Given two lists sorted in increasing order, create and return a merged list of all the elements in sorted order. You may modify the passed in lists. <br>\n",
    "Ideally, the solution should work in \"linear\" time, making a single pass through each list. Please note that Python's sorting functions are slower than linear time."
   ]
  },
  {
   "cell_type": "code",
   "execution_count": 8,
   "metadata": {
    "tags": []
   },
   "outputs": [
    {
     "data": {
      "text/plain": [
       "True"
      ]
     },
     "execution_count": 8,
     "metadata": {},
     "output_type": "execute_result"
    }
   ],
   "source": [
    "### START FUNCTION\n",
    "def linear_merge(list1, list2):    \n",
    "    # your code here\n",
    "    merged_list = []\n",
    "    i = j = 0\n",
    "\n",
    "    while i < len(list1) and j < len(list2):\n",
    "        if list1[i] <= list2[j]:\n",
    "            merged_list.append(list1[i])\n",
    "            i += 1\n",
    "        else:\n",
    "            merged_list.append(list2[j])\n",
    "            j += 1\n",
    "\n",
    "    # Append any remaining elements from list1\n",
    "    merged_list.extend(list1[i:])\n",
    "\n",
    "    # Append any remaining elements from list2\n",
    "    merged_list.extend(list2[j:])\n",
    "    \n",
    "    return merged_list\n",
    "### END FUNCTION\n",
    "\n",
    "\n"
   ]
  },
  {
   "cell_type": "code",
   "execution_count": 2,
   "metadata": {},
   "outputs": [
    {
     "data": {
      "text/plain": [
       "['aa', 'bb', 'cc', 'xx', 'zz']"
      ]
     },
     "execution_count": 2,
     "metadata": {},
     "output_type": "execute_result"
    }
   ],
   "source": [
    "linear_merge(['aa', 'xx', 'zz'], ['bb', 'cc'])"
   ]
  },
  {
   "cell_type": "markdown",
   "metadata": {},
   "source": [
    "_**Expected Outputs**_ \n",
    "```python\n",
    "linear_merge(['aa', 'xx', 'zz'], ['bb', 'cc']) == ['aa', 'bb', 'cc', 'xx', 'zz']\n",
    "linear_merge(['searching', 'sorting', 'van'], ['apple', 'small']) == ['apple', 'searching', 'small', 'sorting', 'van']\n",
    "linear_merge(['hello', 'world'], ['funny', 'giant', 'zoo']) == ['funny', 'giant', 'hello', 'world', 'zoo']\n",
    "linear_merge(['patch', 'tour', 'yak', 'zombie'], ['egg', 'stall']) == ['egg', 'patch', 'stall', 'tour', 'yak', 'zombie']\n",
    "linear_merge(['aab', 'aad', 'aaf'], ['aac', 'aae']) == ['aab', 'aac', 'aad', 'aae', 'aaf']\n",
    "```"
   ]
  },
  {
   "cell_type": "markdown",
   "metadata": {},
   "source": [
    "## References\n",
    "\n",
    "Parts of this tutorial was created using the wonderful [Google Python Developers](https://developers.google.com/edu/python/) course, and has been modified under the [Creative Common's licence 2.5](https://creativecommons.org/licenses/by/2.5/) \n",
    "\n",
    "Copyright 2010 Google Inc.\n",
    "Licensed under the Apache License, Version 2.0\n",
    "http://www.apache.org/licenses/LICENSE-2.0\n",
    "\n",
    "Google's Python Class\n",
    "http://code.google.com/edu/languages/google-python-class/"
   ]
  }
 ],
 "metadata": {
  "kernelspec": {
   "display_name": "Python 3 (ipykernel)",
   "language": "python",
   "name": "python3"
  },
  "language_info": {
   "codemirror_mode": {
    "name": "ipython",
    "version": 3
   },
   "file_extension": ".py",
   "mimetype": "text/x-python",
   "name": "python",
   "nbconvert_exporter": "python",
   "pygments_lexer": "ipython3",
   "version": "3.9.13"
  }
 },
 "nbformat": 4,
 "nbformat_minor": 4
}
