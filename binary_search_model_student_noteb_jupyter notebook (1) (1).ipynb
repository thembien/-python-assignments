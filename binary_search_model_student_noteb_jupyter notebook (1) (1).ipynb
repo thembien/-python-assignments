{
 "cells": [
  {
   "cell_type": "markdown",
   "metadata": {},
   "source": [
    "# Binary Search – Find the Root \n",
    "\n",
    "© Explore Data Science Academy\n",
    "\n",
    "## Instructions to students\n",
    "- **Do not add or remove cells in this notebook. Do not edit or remove the `### START FUNCTION` or `### END FUNCTION` comments. Do not add any code outside of the functions you are required to edit. Doing any of this will lead to a mark of 0%!**\n",
    "- Answer the questions according to the specifications provided.\n",
    "- Use the given cell in each question to see if your function matches the expected outputs.\n",
    "- Do not hard-code answers to the questions.\n",
    "- The use of Stack Overflow, Google, and other online tools are permitted. However, copying fellow students' code is not permissible and is considered a breach of the Honour Code below. Doing this will result in a mark of 0%.\n",
    "- Good luck, and may the force be with you!\n",
    "\n",
    "## Honour Code\n",
    "\n",
    "I **YOUR NAME YOUR SURNAME** confirm, by submitting this document, that the solutions in this notebook are a result of my own work and that I abide by the   <a href=\"https://drive.google.com/open?id=1FXCIf425JLRx3JQi-ltSWppj8BCF3Np1\" target=\"_blank\">EDSA Student Manifesto</a>. Non-compliance with the honour code constitutes a material breach of contract.\n",
    "\n",
    "## Import required packages for coding challenge\n"
   ]
  },
  {
   "cell_type": "code",
   "execution_count": 1,
   "metadata": {
    "tags": []
   },
   "outputs": [],
   "source": [
    "import numpy as np"
   ]
  },
  {
   "cell_type": "markdown",
   "metadata": {},
   "source": [
    "## Challenge\n",
    "\n",
    "The binary search is considered to be a very powerful algorithm used for locating elements in an already ordered list. Its ability to halve the search space with every iteration is what makes it so efficient. With every iteration we are searching a smaller and more manageable subspace. \n",
    "\n",
    "Over and above being able to locate items in a discrete list, it can also be applied on a continuous domain. For this question, you will be required to use the binary search to find the root of some function $f(x)$ on the domain $x \\in [a,b]$  by continuously bisecting the domain. In our case, the root of the function can be defined as the x-values where the function will return 0, i.e. $f(x) = 0$\n",
    "\n",
    "For example, for the function: $f(x) = sin^2(x)x^2-2$ on the domain $[0,2]$, the root can be found at $x \\approx 1.43$. \n",
    "\n",
    "**Constraints**\n",
    " - Stopping criteria: $\\big| f(root) \\big| < 0.0001$ or you reach a maximum of 1000 iterations.\n",
    " - Round your answer to two decimal places. \n",
    "\n",
    "**Function specifications**\n",
    "\n",
    "*Argument(s):*\n",
    "- **f** `(function)` $\\rightarrow$ mathematical expression in the form of a lambda function.\n",
    "- **domain** `(tuple)` $\\rightarrow$ the domain of the function given a set of two integers.\n",
    "- **MAX** `(int)` $\\rightarrow$ the maximum number of iterations that will be performed by the function.\n",
    "\n",
    "*Return:*\n",
    "- **root** `(float)` $\\rightarrow$ return the root (**rounded to two decimals**) of the given function."
   ]
  },
  {
   "cell_type": "code",
   "execution_count": 30,
   "metadata": {
    "tags": []
   },
   "outputs": [],
   "source": [
    "### START FUNCTION\n",
    "def binary_search(f, domain, MAX=1000):\n",
    "    a, b = domain\n",
    "    eps = 1e-6\n",
    "    for i in range(MAX):\n",
    "        c = (a + b) / 2\n",
    "        if abs(b - a) < eps or f(c) == 0:\n",
    "            return round(c, 2)\n",
    "        elif f(c) * f(a) < 0:\n",
    "            b = c\n",
    "        else:\n",
    "            a = c\n",
    "    return None\n",
    "\n",
    "### END FUNCTION"
   ]
  },
  {
   "cell_type": "code",
   "execution_count": 38,
   "metadata": {
    "tags": []
   },
   "outputs": [
    {
     "data": {
      "text/plain": [
       "1.43"
      ]
     },
     "execution_count": 38,
     "metadata": {},
     "output_type": "execute_result"
    }
   ],
   "source": [
    "f = lambda x: (np.sin(x)**2)*(x**2)-2\n",
    "domain = (0, 2)\n",
    "x = binary_search(f, domain)\n",
    "x"
   ]
  },
  {
   "cell_type": "markdown",
   "metadata": {},
   "source": [
    "***Expected output***\n",
    "```python\n",
    "binary_search(lambda x:(np.sin(x)**2)*(x**2)-2,(0,2))==1.43\n",
    "```"
   ]
  }
 ],
 "metadata": {
  "interpreter": {
   "hash": "6b5ebbc2c6bde2831bc6c0426f75aca8137ccfc69d329557556ed73faee126ae"
  },
  "kernelspec": {
   "display_name": "Python 3 (ipykernel)",
   "language": "python",
   "name": "python3"
  },
  "language_info": {
   "codemirror_mode": {
    "name": "ipython",
    "version": 3
   },
   "file_extension": ".py",
   "mimetype": "text/x-python",
   "name": "python",
   "nbconvert_exporter": "python",
   "pygments_lexer": "ipython3",
   "version": "3.9.13"
  }
 },
 "nbformat": 4,
 "nbformat_minor": 4
}
